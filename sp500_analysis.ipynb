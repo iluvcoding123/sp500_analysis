{
 "cells": [
  {
   "cell_type": "markdown",
   "metadata": {},
   "source": [
    "# **S&P 500 Analysis**\n",
    "*By Justin Kim*  \n",
    "[GitHub Repository](https://github.com/iluvcoding123/sp500_analysis)\n"
   ]
  },
  {
   "cell_type": "markdown",
   "metadata": {},
   "source": [
    "## Introduction\n",
    "The S&P 500 is a stock market index comprised of the 500 largest publicly traded companies in the U.S. Netflix, Amazon, Coca-Cola, and Apple are but a few notable names among its top performers. It serves as a key benchmark for the performance of the U.S. stock market and overall economy. By tracking the performance of 500 leading companies, it provides valuable insights into economic trends and market conditions. In this project, we will aim to reveal such insights by using data analysis techniques in Python."
   ]
  },
  {
   "cell_type": "markdown",
   "metadata": {},
   "source": [
    "## Data Overview\n",
    "We will be using three primary datasets sourced from [Kaggle](https://www.kaggle.com/datasets/andrewmvd/sp-500-stocks). \n",
    "1. `sp500_companies.csv`  \n",
    "    Contains detailed information about each S&P 500 company including symbol, industry, market cap, weight, etc.\n",
    "\n",
    "2. `sp500_index.csv`  \n",
    "    Contains historical daily values of the S&P 500 index\n",
    "    \n",
    "3. `sp500_stocks.csv`  \n",
    "    Contains historical daily open, close, and other related metrics for each company. "
   ]
  },
  {
   "cell_type": "markdown",
   "metadata": {},
   "source": [
    "### Importing Data\n",
    "First, let's import the datasets into pandas DataFrames so we can analyze them throughout this project. Note: The `sp500_stocks.csv` file will be accessed externally through Google Drive due to its large file size (~200 MB)."
   ]
  },
  {
   "cell_type": "code",
   "execution_count": 31,
   "metadata": {},
   "outputs": [
    {
     "name": "stdout",
     "output_type": "stream",
     "text": [
      "sp500_stocks.csv download skipped.\n"
     ]
    }
   ],
   "source": [
    "import pandas as pd\n",
    "import gdown\n",
    "import os\n",
    "\n",
    "# Download 'sp500_stocks.csv' from Google Drive\n",
    "url = 'https://drive.google.com/uc?id=1ODTONeSfNwIa7ADrFSdTqiJHWHBiMV5M'\n",
    "file_path = 'sp500_stocks.csv'\n",
    "# Skip download if file already exists in path\n",
    "if not os.path.exists(file_path):\n",
    "    print(\"Downloading sp500_stocks.csv from Google Drive...\")\n",
    "    gdown.download(url, file_path, quiet=False)\n",
    "else:\n",
    "    print(\"sp500_stocks.csv download skipped.\")\n",
    "\n",
    "# Load the CSV files into DataFrames\n",
    "companies = pd.read_csv('sp500_companies.csv')\n",
    "index = pd.read_csv('sp500_index.csv')\n",
    "stocks = pd.read_csv('sp500_stocks.csv')"
   ]
  },
  {
   "cell_type": "markdown",
   "metadata": {},
   "source": [
    "## Exploratory Data Analysis\n",
    "Now that our data is loaded into the `companies`, `index`, and `stocks` DataFrames, we can perform exploratory data analysis to gain a better understanding of the data's characteristics."
   ]
  },
  {
   "cell_type": "markdown",
   "metadata": {},
   "source": [
    "### 1. Data Overview and Structure"
   ]
  },
  {
   "cell_type": "code",
   "execution_count": 26,
   "metadata": {},
   "outputs": [
    {
     "name": "stdout",
     "output_type": "stream",
     "text": [
      "companies info:\n",
      "<class 'pandas.core.frame.DataFrame'>\n",
      "RangeIndex: 503 entries, 0 to 502\n",
      "Data columns (total 16 columns):\n",
      " #   Column               Non-Null Count  Dtype  \n",
      "---  ------               --------------  -----  \n",
      " 0   Exchange             503 non-null    object \n",
      " 1   Symbol               503 non-null    object \n",
      " 2   Shortname            503 non-null    object \n",
      " 3   Longname             503 non-null    object \n",
      " 4   Sector               503 non-null    object \n",
      " 5   Industry             503 non-null    object \n",
      " 6   Currentprice         503 non-null    float64\n",
      " 7   Marketcap            503 non-null    int64  \n",
      " 8   Ebitda               474 non-null    float64\n",
      " 9   Revenuegrowth        501 non-null    float64\n",
      " 10  City                 503 non-null    object \n",
      " 11  State                483 non-null    object \n",
      " 12  Country              503 non-null    object \n",
      " 13  Fulltimeemployees    498 non-null    float64\n",
      " 14  Longbusinesssummary  503 non-null    object \n",
      " 15  Weight               503 non-null    float64\n",
      "dtypes: float64(5), int64(1), object(10)\n",
      "memory usage: 63.0+ KB\n",
      "None\n",
      "\n",
      "index info:\n",
      "<class 'pandas.core.frame.DataFrame'>\n",
      "RangeIndex: 2517 entries, 0 to 2516\n",
      "Data columns (total 2 columns):\n",
      " #   Column  Non-Null Count  Dtype  \n",
      "---  ------  --------------  -----  \n",
      " 0   Date    2517 non-null   object \n",
      " 1   S&P500  2517 non-null   float64\n",
      "dtypes: float64(1), object(1)\n",
      "memory usage: 39.5+ KB\n",
      "None\n",
      "\n",
      "stocks info:\n",
      "<class 'pandas.core.frame.DataFrame'>\n",
      "RangeIndex: 1861100 entries, 0 to 1861099\n",
      "Data columns (total 8 columns):\n",
      " #   Column     Dtype  \n",
      "---  ------     -----  \n",
      " 0   Date       object \n",
      " 1   Symbol     object \n",
      " 2   Adj Close  float64\n",
      " 3   Close      float64\n",
      " 4   High       float64\n",
      " 5   Low        float64\n",
      " 6   Open       float64\n",
      " 7   Volume     float64\n",
      "dtypes: float64(6), object(2)\n",
      "memory usage: 113.6+ MB\n",
      "None\n"
     ]
    }
   ],
   "source": [
    "# Print a summary of each DataFrame's structure\n",
    "print('companies info:')\n",
    "print(companies.info())\n",
    "\n",
    "print('\\nindex info:')\n",
    "print(index.info())\n",
    "\n",
    "print('\\nstocks info:')\n",
    "print(stocks.info())"
   ]
  },
  {
   "cell_type": "markdown",
   "metadata": {},
   "source": [
    "### 2. Summary Statistics"
   ]
  },
  {
   "cell_type": "code",
   "execution_count": 25,
   "metadata": {},
   "outputs": [
    {
     "name": "stdout",
     "output_type": "stream",
     "text": [
      "companies summary statistics:\n",
      "       Currentprice     Marketcap        Ebitda  Revenuegrowth  \\\n",
      "count    503.000000  5.030000e+02  4.740000e+02     501.000000   \n",
      "mean     220.833926  1.039559e+11  6.799068e+09       0.057695   \n",
      "std      507.631537  3.012797e+11  1.486008e+10       0.142051   \n",
      "min        8.560000  6.334528e+09 -4.107000e+09      -0.573000   \n",
      "25%       69.830000  1.917211e+10  1.585225e+09      -0.001000   \n",
      "50%      123.800000  3.671813e+10  2.880500e+09       0.047000   \n",
      "75%      234.515000  7.657803e+10  5.874562e+09       0.096000   \n",
      "max     9425.370000  3.288951e+12  1.317810e+11       1.430000   \n",
      "\n",
      "       Fulltimeemployees      Weight  \n",
      "count       4.980000e+02  503.000000  \n",
      "mean        5.815182e+04    0.001988  \n",
      "std         1.390450e+05    0.005762  \n",
      "min         2.800000e+01    0.000121  \n",
      "25%         1.017825e+04    0.000367  \n",
      "50%         2.137450e+04    0.000702  \n",
      "75%         5.548300e+04    0.001464  \n",
      "max         2.100000e+06    0.062899  \n",
      "\n",
      "index summary statistics:\n",
      "            S&P500\n",
      "count  2517.000000\n",
      "mean   3240.255479\n",
      "std    1012.985497\n",
      "min    1829.080000\n",
      "25%    2355.540000\n",
      "50%    2924.920000\n",
      "75%    4136.130000\n",
      "max    5667.200000\n",
      "\n",
      "stocks summary statistics:\n",
      "          Adj Close         Close          High           Low          Open  \\\n",
      "count  1.766221e+06  1.766221e+06  1.766221e+06  1.766221e+06  1.766221e+06   \n",
      "mean   9.708283e+01  1.039735e+02  1.051118e+02  1.027780e+02  1.039538e+02   \n",
      "std    2.079860e+02  2.081093e+02  2.105228e+02  2.056101e+02  2.080195e+02   \n",
      "min    2.036070e-01  2.220000e-01  2.262500e-01  2.162500e-01  2.180000e-01   \n",
      "25%    2.910450e+01  3.485000e+01  3.523000e+01  3.445000e+01  3.484517e+01   \n",
      "50%    5.408741e+01  6.237000e+01  6.299000e+01  6.169000e+01  6.235000e+01   \n",
      "75%    1.037028e+02  1.128300e+02  1.140000e+02  1.116100e+02  1.128300e+02   \n",
      "max    9.425370e+03  9.425370e+03  9.488440e+03  9.315010e+03  9.325000e+03   \n",
      "\n",
      "             Volume  \n",
      "count  1.766221e+06  \n",
      "mean   6.959713e+06  \n",
      "std    3.312457e+07  \n",
      "min    0.000000e+00  \n",
      "25%    1.004200e+06  \n",
      "50%    2.183600e+06  \n",
      "75%    4.998100e+06  \n",
      "max    3.692928e+09  \n"
     ]
    }
   ],
   "source": [
    "# Print summary statistics for each DataFrame\n",
    "print('companies summary statistics:')\n",
    "print(companies.describe())\n",
    "\n",
    "print('\\nindex summary statistics:')\n",
    "print(index.describe())\n",
    "\n",
    "print('\\nstocks summary statistics:')\n",
    "print(stocks.describe())"
   ]
  },
  {
   "cell_type": "markdown",
   "metadata": {},
   "source": [
    "### 3. Missing Data"
   ]
  },
  {
   "cell_type": "code",
   "execution_count": 30,
   "metadata": {},
   "outputs": [
    {
     "name": "stdout",
     "output_type": "stream",
     "text": [
      "companies missing values:\n",
      "Exchange                0\n",
      "Symbol                  0\n",
      "Shortname               0\n",
      "Longname                0\n",
      "Sector                  0\n",
      "Industry                0\n",
      "Currentprice            0\n",
      "Marketcap               0\n",
      "Ebitda                 29\n",
      "Revenuegrowth           2\n",
      "City                    0\n",
      "State                  20\n",
      "Country                 0\n",
      "Fulltimeemployees       5\n",
      "Longbusinesssummary     0\n",
      "Weight                  0\n",
      "dtype: int64\n",
      "\n",
      "index missing values:\n",
      "Date      0\n",
      "S&P500    0\n",
      "dtype: int64\n",
      "\n",
      "stocks missing values:\n",
      "Date             0\n",
      "Symbol           0\n",
      "Adj Close    94879\n",
      "Close        94879\n",
      "High         94879\n",
      "Low          94879\n",
      "Open         94879\n",
      "Volume       94879\n",
      "dtype: int64\n"
     ]
    }
   ],
   "source": [
    "# Check for number of missing values in each DataFrame\n",
    "print(\"companies missing values:\")\n",
    "print(companies.isnull().sum())\n",
    "\n",
    "print(\"\\nindex missing values:\")\n",
    "print(index.isnull().sum())\n",
    "\n",
    "print(\"\\nstocks missing values:\")\n",
    "print(stocks.isnull().sum())"
   ]
  },
  {
   "cell_type": "markdown",
   "metadata": {},
   "source": [
    "Hmmm, seems like a non-negligible amount of data is missing from the `stocks` table. **94,879** values are missing from each of the `Adj Close`, `Close`, `High`, `Low`, `Open`, and `Volume` columns. Let's calculate exactly how much is missing relative to the total."
   ]
  },
  {
   "cell_type": "code",
   "execution_count": 28,
   "metadata": {},
   "outputs": [
    {
     "name": "stdout",
     "output_type": "stream",
     "text": [
      "Date         0.000000\n",
      "Symbol       0.000000\n",
      "Adj Close    5.098007\n",
      "Close        5.098007\n",
      "High         5.098007\n",
      "Low          5.098007\n",
      "Open         5.098007\n",
      "Volume       5.098007\n",
      "dtype: float64\n"
     ]
    }
   ],
   "source": [
    "# Calculate and print the percentage of values that are missing for each column\n",
    "missing_percentage = stocks.isnull().sum() / len(stocks) * 100\n",
    "print(missing_percentage)"
   ]
  },
  {
   "cell_type": "markdown",
   "metadata": {},
   "source": [
    "Interesting... we calculated a little over **5%** of values are missing from each of those columns. We'll have to keep that in mind going forward. For now, let's continue exploring the data. "
   ]
  },
  {
   "cell_type": "markdown",
   "metadata": {},
   "source": [
    "### 4. Data Visualization"
   ]
  },
  {
   "cell_type": "markdown",
   "metadata": {},
   "source": [
    "Let's take a look at the `companies` table first. In recent years, the stocks of tech giants like Apple, Google, Microsoft, and Meta have seen impressive growth, reflecting the dominance of the technology sector. To better understand how the S&P 500 is represented across various industries, we can examine the count of companies by sector within the index."
   ]
  },
  {
   "cell_type": "code",
   "execution_count": 76,
   "metadata": {},
   "outputs": [
    {
     "name": "stdout",
     "output_type": "stream",
     "text": [
      "                        Counts  Percentage of Index (%)\n",
      "Sector                                                 \n",
      "Technology                  80                    15.90\n",
      "Industrials                 70                    13.92\n",
      "Financial Services          66                    13.12\n",
      "Healthcare                  64                    12.72\n",
      "Consumer Cyclical           57                    11.33\n",
      "Consumer Defensive          37                     7.36\n",
      "Utilities                   32                     6.36\n",
      "Real Estate                 31                     6.16\n",
      "Communication Services      22                     4.37\n",
      "Energy                      22                     4.37\n",
      "Basic Materials             22                     4.37\n"
     ]
    },
    {
     "data": {
      "image/png": "[encoded data removed]",
      "text/plain": [
       "<Figure size 512.222x500 with 1 Axes>"
      ]
     },
     "metadata": {},
     "output_type": "display_data"
    }
   ],
   "source": [
    "import matplotlib.pyplot as plt\n",
    "import seaborn as sns\n",
    "\n",
    "# Set plot style and context\n",
    "sns.set_style('dark')\n",
    "sns.set_context('notebook')\n",
    "\n",
    "# Count plot for 'Sector' in companies\n",
    "# Order by counts descending and print\n",
    "sector_counts = companies['Sector'].value_counts()\n",
    "sector_percentages = companies['Sector'].value_counts(normalize=True) * 100\n",
    "sector_summary = pd.DataFrame({'Counts': sector_counts, 'Percentage of Index (%)': sector_percentages.round(2)})\n",
    "print(sector_summary)\n",
    "\n",
    "\n",
    "# Count plot for 'Sector' in companies\n",
    "sector_plot = sns.catplot(x='Sector', kind='count', data=companies, order=sector_counts.index)\n",
    "sector_plot.fig.suptitle('Number of Companies by Sector', y=1.01)\n",
    "sector_plot.set_axis_labels('Sector', 'Number of Companies')\n",
    "plt.xticks(rotation=90)\n",
    "plt.show()"
   ]
  },
  {
   "cell_type": "markdown",
   "metadata": {},
   "source": [
    "As expected, the Technology sector contributes the most companies. It contributes **80** companies, representing **15.9%** of the index."
   ]
  }
 ],
 "metadata": {
  "kernelspec": {
   "display_name": "Python 3",
   "language": "python",
   "name": "python3"
  },
  "language_info": {
   "codemirror_mode": {
    "name": "ipython",
    "version": 3
   },
   "file_extension": ".py",
   "mimetype": "text/x-python",
   "name": "python",
   "nbconvert_exporter": "python",
   "pygments_lexer": "ipython3",
   "version": "3.12.4"
  }
 },
 "nbformat": 4,
 "nbformat_minor": 2
}
