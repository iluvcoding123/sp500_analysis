{
 "cells": [
  {
   "cell_type": "markdown",
   "metadata": {},
   "source": [
    "# S&P 500 Analysis\n",
    "By Justin Kim\n",
    "## Introduction\n",
    "The S&P 500 is a stock market index comprised of the 500 largest publicly traded companies in the U.S. Not only is it widely regarded as a reliable long-term investment option, but it also serves as a key indicator of the U.S. economy’s health. By tracking the performance of 500 leading companies, it provides valuable insights into economic trends and market conditions. In this project, I aim to reveal such insights by using data analysis techniques in Python."
   ]
  },
  {
   "cell_type": "markdown",
   "metadata": {},
   "source": [
    "## Data Overview\n",
    "I will be using three primary datasets sourced from [Kaggle](https://www.kaggle.com/datasets/andrewmvd/sp-500-stocks). \n",
    "1. `sp500_companies.csv`  \n",
    "    Contains detailed information about each S&P 500 company including symbol, industry, market cap, weight, etc.\n",
    "\n",
    "2. `sp500_index.csv`  \n",
    "    Contains historical daily values of the S&P 500 index\n",
    "    \n",
    "3. `sp500_stocks.csv`  \n",
    "    Contains historical daily open, close, and other related metrics for each company. (Accessed externally due to large file size)"
   ]
  },
  {
   "cell_type": "markdown",
   "metadata": {},
   "source": [
    "[GitHub](https://github.com/iluvcoding123/sp500_analysis)"
   ]
  }
 ],
 "metadata": {
  "kernelspec": {
   "display_name": "Python 3",
   "language": "python",
   "name": "python3"
  },
  "language_info": {
   "codemirror_mode": {
    "name": "ipython",
    "version": 3
   },
   "file_extension": ".py",
   "mimetype": "text/x-python",
   "name": "python",
   "nbconvert_exporter": "python",
   "pygments_lexer": "ipython3",
   "version": "3.12.4"
  }
 },
 "nbformat": 4,
 "nbformat_minor": 2
}
